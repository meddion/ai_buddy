{
 "cells": [
  {
   "cell_type": "code",
   "execution_count": null,
   "metadata": {},
   "outputs": [],
   "source": [
    "import os\n",
    "import importlib\n",
    "from dotenv import load_dotenv\n",
    "\n",
    "load_dotenv()\n",
    "\n",
    "os.chdir(\"/Users/volodymyr/work/personal/buddy-ai/\")\n",
    "os.getcwd()"
   ]
  },
  {
   "cell_type": "code",
   "execution_count": null,
   "metadata": {},
   "outputs": [],
   "source": [
    "import nest_asyncio\n",
    "\n",
    "nest_asyncio.apply()\n",
    "\n",
    "import telethon\n",
    "from dotenv import dotenv_values\n",
    "from telegram.channel import Channel\n",
    "\n",
    "\n",
    "env = dotenv_values()\n",
    "username = env[\"TELEGRAM_USER\"]\n",
    "app_id = env[\"TELEGRAM_APP_ID\"]\n",
    "api_hash = env[\"TELEGRAM_API_HASH\"]\n",
    "channel_id = int(env[\"TELEGRAM_CHANNEL_ID\"])  # 564660774 #- Me\n",
    "\n",
    "client = telethon.TelegramClient(\n",
    "    username,\n",
    "    app_id,\n",
    "    api_hash,\n",
    ")\n",
    "\n",
    "async with client:\n",
    "    tchannel = await client.get_entity(channel_id)\n",
    "\n",
    "    chan = Channel(client, tchannel)\n",
    "\n",
    "    msgs = await chan.history(search=\"пиво\")\n",
    "    print(msgs)"
   ]
  },
  {
   "cell_type": "code",
   "execution_count": null,
   "metadata": {},
   "outputs": [],
   "source": [
    "from ai.db import VectorDB\n",
    "from telegram.channel import Messages\n",
    "from ai import CHAT_HISTORY_JQ_SCHEMA, CHAT_HISTORY_PATH\n",
    "\n",
    "from langchain.document_loaders import JSONLoader\n",
    "from pathlib import Path\n",
    "\n",
    "\n",
    "# importlib.reload()\n",
    "\n",
    "# loader = JSONLoader(\n",
    "#     file_path=Path(CHAT_HISTORY_PATH),\n",
    "#     jq_schema=CHAT_HISTORY_JQ_SCHEMA,\n",
    "# )\n",
    "\n",
    "from langchain.text_splitter import CharacterTextSplitter, TextSplitter\n",
    "\n",
    "text_splitter = CharacterTextSplitter(\n",
    "    separator=\"\\n\\n\",\n",
    "    chunk_size=1000,\n",
    "    chunk_overlap=200,\n",
    "    length_function=len,\n",
    "    is_separator_regex=False,\n",
    ")\n",
    "\n",
    "msgs = Messages.from_file(CHAT_HISTORY_PATH)\n",
    "\n",
    "contents = [msg.context_text for msg in msgs]\n",
    "all_msgs = \"\\n\".join(contents)\n",
    "\n",
    "documents = text_splitter.create_documents([all_msgs])\n",
    "len(documents[0].page_content)\n"
   ]
  },
  {
   "cell_type": "code",
   "execution_count": null,
   "metadata": {},
   "outputs": [],
   "source": [
    "db = VectorDB()\n",
    "# db.store_documents(documents)\n",
    "db.get_relevant_documents(\"пиво\")\n"
   ]
  }
 ],
 "metadata": {
  "kernelspec": {
   "display_name": "buddy-ai-lV24HL4C",
   "language": "python",
   "name": "python3"
  },
  "language_info": {
   "codemirror_mode": {
    "name": "ipython",
    "version": 3
   },
   "file_extension": ".py",
   "mimetype": "text/x-python",
   "name": "python",
   "nbconvert_exporter": "python",
   "pygments_lexer": "ipython3",
   "version": "3.11.5"
  },
  "orig_nbformat": 4
 },
 "nbformat": 4,
 "nbformat_minor": 2
}
